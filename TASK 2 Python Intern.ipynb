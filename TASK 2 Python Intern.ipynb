{
 "cells": [
  {
   "cell_type": "code",
   "execution_count": 2,
   "id": "f253e394-b612-401d-9759-cf8c97c56d39",
   "metadata": {},
   "outputs": [
    {
     "name": "stdin",
     "output_type": "stream",
     "text": [
      "Enter a number:  781\n"
     ]
    },
    {
     "name": "stdout",
     "output_type": "stream",
     "text": [
      "Is it a prime? False.\n"
     ]
    }
   ],
   "source": [
    "#Task 9: Prime Number\n",
    "def is_prime(n):\n",
    "    if n <= 1:\n",
    "        return False\n",
    "    for i in range(2, int(n ** 0.5 ) + 1):\n",
    "        if n % i == 0:\n",
    "            return False\n",
    "    return True\n",
    "\n",
    "n = int(input(\"Enter a number: \"))\n",
    "print(f\"Is it a prime? {is_prime(n)}.\")\n"
   ]
  },
  {
   "cell_type": "code",
   "execution_count": 3,
   "id": "bfc28010-ec1b-401c-97c5-97d06c3e1137",
   "metadata": {},
   "outputs": [
    {
     "name": "stdin",
     "output_type": "stream",
     "text": [
      "Enter a number:  824\n"
     ]
    },
    {
     "name": "stdout",
     "output_type": "stream",
     "text": [
      "14\n"
     ]
    }
   ],
   "source": [
    "#Task 10 :Sum of Digits\n",
    "def sum_of_digits(n):\n",
    "    return sum(int(digit) for digit in str(abs(n)))\n",
    "\n",
    "n = int(input(\"Enter a number: \"))\n",
    "print(sum_of_digits(n))\n"
   ]
  },
  {
   "cell_type": "code",
   "execution_count": null,
   "id": "db04d667-fa15-4e2e-acf5-07a00843c5fb",
   "metadata": {},
   "outputs": [],
   "source": []
  },
  {
   "cell_type": "code",
   "execution_count": 8,
   "id": "29a57e24-4527-4dd8-ae51-44e2c9cc2921",
   "metadata": {},
   "outputs": [
    {
     "name": "stdout",
     "output_type": "stream",
     "text": [
      "The LCM  of 54 and 84 is : 756 and GCD is:6\n"
     ]
    }
   ],
   "source": [
    "#LCM and GCD\n",
    "import math\n",
    "def lcm_and_gcd(a,b):\n",
    "    gcd = math.gcd(a, b)\n",
    "    lcm = abs(a * b) //gcd\n",
    "    return lcm, gcd\n",
    "a,b = 54,84\n",
    "lcm,gcd = lcm_and_gcd(a,b)\n",
    "print(f\"The LCM  of {a} and {b} is : {lcm} and GCD is:{gcd}\")"
   ]
  },
  {
   "cell_type": "code",
   "execution_count": 9,
   "id": "a034f412-e6fb-4d29-a281-367c678fd8e2",
   "metadata": {},
   "outputs": [
    {
     "name": "stdout",
     "output_type": "stream",
     "text": [
      "The original list is : [154, 255, 356, 457, 558, 659]\n",
      "The reversed lst is:[659, 558, 457, 356, 255, 154]\n"
     ]
    }
   ],
   "source": [
    "#Task 12:List Reversal\n",
    "def reverse_list(lst):\n",
    "    n = len(lst)\n",
    "    for i in range(n//2):\n",
    "        lst[i],lst[n-i-1] = lst[n-i-1],lst[i]\n",
    "    return lst\n",
    "\n",
    "lst = [154,255,356,457,558,659]\n",
    "print (f\"The original list is : {lst}\")\n",
    "print(f\"The reversed lst is:{reverse_list(lst)}\")"
   ]
  },
  {
   "cell_type": "code",
   "execution_count": 13,
   "id": "26da8152-ae17-4703-b4ce-50042999f5e6",
   "metadata": {},
   "outputs": [
    {
     "name": "stdout",
     "output_type": "stream",
     "text": [
      "The original list is : [5, 9, 2, 8, 6]\n",
      "The sorted list is:[2, 5, 6, 8, 9]\n"
     ]
    }
   ],
   "source": [
    "#Task 13 :Sort a list\n",
    "def bubble_sort(lst):\n",
    "    n = len(lst)\n",
    "    for i in range(n):\n",
    "        for j in range,2=(0,n-i-1):\n",
    "            if lst[j]>lst[j+1]:\n",
    "                lst[j],lst[j+1] = lst[j+1],lst[j]\n",
    "    return lst\n",
    "\n",
    "lst = [5,9,2,8,6]\n",
    "print (f\"The original list is : {lst}\")\n",
    "print(f\"The sorted list is:{bubble_sort(lst)}\")"
   ]
  },
  {
   "cell_type": "code",
   "execution_count": 18,
   "id": "74a24bf5-b701-4861-b7a5-218773f0dfe8",
   "metadata": {},
   "outputs": [
    {
     "name": "stdin",
     "output_type": "stream",
     "text": [
      "How many numbers do you want to enter?  5\n",
      "Enter number 1:  2\n",
      "Enter number 2:  6\n",
      "Enter number 3:  45\n",
      "Enter number 4:  6\n",
      "Enter number 5:  45\n"
     ]
    },
    {
     "name": "stdout",
     "output_type": "stream",
     "text": [
      "The original list is: [2, 6, 45, 6, 45]\n",
      "After removing duplicates: [2, 45, 6]\n"
     ]
    }
   ],
   "source": [
    "#Task 14:Remove Duplicates\n",
    "def remove_duplicates(lst):\n",
    "    return list(set(lst))\n",
    "\n",
    "n = int(input(\"How many numbers do you want to enter? \"))\n",
    "\n",
    "lst = []\n",
    "for i in range(n):\n",
    "    num = int(input(f\"Enter number {i+1}: \"))\n",
    "    lst.append(num)\n",
    "\n",
    "print(f\"The original list is: {lst}\")\n",
    "print(f\"After removing duplicates: {remove_duplicates(lst)}\")\n"
   ]
  },
  {
   "cell_type": "code",
   "execution_count": 19,
   "id": "e6005970-c1da-4aa5-acb6-2fc1826ff76e",
   "metadata": {},
   "outputs": [
    {
     "name": "stdin",
     "output_type": "stream",
     "text": [
      "Enter a string:  Good morning\n"
     ]
    },
    {
     "name": "stdout",
     "output_type": "stream",
     "text": [
      "12\n"
     ]
    }
   ],
   "source": [
    "def string_length(s):\n",
    "    count = 0\n",
    "    for _ in s:\n",
    "        count += 1\n",
    "    return count\n",
    "\n",
    "s = input(\"Enter a string: \")\n",
    "print(string_length(s))\n"
   ]
  },
  {
   "cell_type": "code",
   "execution_count": 20,
   "id": "6e5a6da7-3bc9-4b44-aba7-263749cd41d3",
   "metadata": {},
   "outputs": [
    {
     "name": "stdin",
     "output_type": "stream",
     "text": [
      "Enter a string:  Thyroparathyroidectomized\n"
     ]
    },
    {
     "name": "stdout",
     "output_type": "stream",
     "text": [
      "Number of vowels: 9\n",
      "Number of consonants: 16\n"
     ]
    }
   ],
   "source": [
    "def count_vowels_consonants(s):\n",
    "    vowels = set(\"aeiouAEIOU\")\n",
    "    v_count = c_count = 0\n",
    "\n",
    "    for char in s:\n",
    "        if char.isalpha():  # Check if the character is a letter\n",
    "            if char in vowels:\n",
    "                v_count += 1\n",
    "            else:\n",
    "                c_count += 1\n",
    "\n",
    "    return v_count, c_count\n",
    "\n",
    "# User input\n",
    "s = input(\"Enter a string: \")\n",
    "\n",
    "# Get vowel and consonant count\n",
    "vowels, consonants = count_vowels_consonants(s)\n",
    "\n",
    "print(f\"Number of vowels: {vowels}\")\n",
    "print(f\"Number of consonants: {consonants}\")\n"
   ]
  },
  {
   "cell_type": "code",
   "execution_count": 22,
   "id": "e9891863-73ba-4642-9942-6bf49586f93d",
   "metadata": {},
   "outputs": [
    {
     "name": "stdout",
     "output_type": "stream",
     "text": [
      "█████████████████████\n",
      "█   █               █\n",
      "███ █ █ ███████████ █\n",
      "█ █ █ █   █       █ █\n",
      "█ █ █ ███ █ ███████ █\n",
      "█ █ █ █ █ █ █       █\n",
      "█ █ █ █ █ █ █ ███████\n",
      "█   █   █ █         █\n",
      "█ ███ ███ ███████████\n",
      "█ █ █ █   █         █\n",
      "█ █ █ █ ███ ███████ █\n",
      "█ █   █ █         █ █\n",
      "█ █ ███ █ █████████ █\n",
      "█ █   █     █       █\n",
      "█ █████████ █ █████ █\n",
      "█       █   █   █   █\n",
      "███████ █ █████ █ ███\n",
      "█     █ █ █   █ █ █ █\n",
      "█ █████ ███ █ █ █ █ █\n",
      "█           █   █   █\n",
      "█████████████████████\n",
      "Maze Solvable: True\n"
     ]
    }
   ],
   "source": [
    "import random\n",
    "\n",
    "def create_maze(nx, ny):\n",
    "    maze = [[1] * (nx * 2 + 1) for _ in range(ny * 2 + 1)]\n",
    "\n",
    "    def carve_passages(cx, cy):\n",
    "        directions = [(0, 1), (1, 0), (0, -1), (-1, 0)]\n",
    "        random.shuffle(directions)\n",
    "        \n",
    "        for dx, dy in directions:\n",
    "            nx, ny = cx + dx * 2, cy + dy * 2\n",
    "            if 0 <= nx < len(maze[0]) and 0 <= ny < len(maze) and maze[ny][nx] == 1:\n",
    "                maze[cy + dy][cx + dx] = 0\n",
    "                maze[ny][nx] = 0\n",
    "                carve_passages(nx, ny)\n",
    "\n",
    "    maze[1][1] = 0\n",
    "    carve_passages(1, 1)\n",
    "    return maze\n",
    "\n",
    "def print_maze(maze):\n",
    "    for row in maze:\n",
    "        print(\"\".join(\"█\" if cell else \" \" for cell in row))\n",
    "\n",
    "def solve_maze(maze, start, end):\n",
    "    stack = [start]\n",
    "    visited = set()\n",
    "\n",
    "    while stack:\n",
    "        x, y = stack.pop()\n",
    "        if (x, y) == end:\n",
    "            return True\n",
    "\n",
    "        if (x, y) in visited:\n",
    "            continue\n",
    "        visited.add((x, y))\n",
    "\n",
    "        for dx, dy in [(0, 1), (1, 0), (0, -1), (-1, 0)]:\n",
    "            nx, ny = x + dx, y + dy\n",
    "            if 0 <= nx < len(maze[0]) and 0 <= ny < len(maze) and maze[ny][nx] == 0:\n",
    "                stack.append((nx, ny))\n",
    "\n",
    "    return False\n",
    "\n",
    "# Example usage\n",
    "maze = create_maze(10, 10)\n",
    "print_maze(maze)\n",
    "print(\"Maze Solvable:\", solve_maze(maze, (1, 1), (19, 19)))\n"
   ]
  },
  {
   "cell_type": "code",
   "execution_count": null,
   "id": "364633fe-4713-4fd4-b42c-ad3ca9a92654",
   "metadata": {},
   "outputs": [],
   "source": []
  }
 ],
 "metadata": {
  "kernelspec": {
   "display_name": "Python 3 (ipykernel)",
   "language": "python",
   "name": "python3"
  },
  "language_info": {
   "codemirror_mode": {
    "name": "ipython",
    "version": 3
   },
   "file_extension": ".py",
   "mimetype": "text/x-python",
   "name": "python",
   "nbconvert_exporter": "python",
   "pygments_lexer": "ipython3",
   "version": "3.12.7"
  }
 },
 "nbformat": 4,
 "nbformat_minor": 5
}
