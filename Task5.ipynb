{
 "cells": [
  {
   "cell_type": "code",
   "execution_count": 20,
   "id": "50763c4e-d048-4ac1-ae60-085b51383c11",
   "metadata": {},
   "outputs": [
    {
     "name": "stdout",
     "output_type": "stream",
     "text": [
      "['abc', 'acb', 'bac', 'bca', 'cab', 'cba']\n"
     ]
    }
   ],
   "source": [
    "#Task 33: Find All Permutations of a String\n",
    "from itertools import permutations\n",
    "def string_permutations(s):\n",
    "    return[''.join(p) for p in permutations(s)]\n",
    "\n",
    "print(string_permutations(\"abc\"))"
   ]
  },
  {
   "cell_type": "code",
   "execution_count": 21,
   "id": "c35a0a08-2170-4b52-a439-86a99426cf9c",
   "metadata": {},
   "outputs": [
    {
     "name": "stdout",
     "output_type": "stream",
     "text": [
      "6765\n"
     ]
    }
   ],
   "source": [
    "#Task 34: N-th Fibonacci Number (Dynamic Programming)\n",
    "def fibonacci(n):\n",
    "    fib = [0,1]\n",
    "    for i in range(2, n+1):\n",
    "        fib.append(fib[i-1] + fib[i-2])\n",
    "    return fib[n]\n",
    "    \n",
    "print(fibonacci(20))"
   ]
  },
  {
   "cell_type": "code",
   "execution_count": 10,
   "id": "1e0282e8-69c5-42f2-a7ab-2173eaa387c8",
   "metadata": {},
   "outputs": [
    {
     "name": "stdout",
     "output_type": "stream",
     "text": [
      "[2, 3, 4, 9]\n"
     ]
    }
   ],
   "source": [
    "from collections import Counter\n",
    "\n",
    "def find_duplicates(lst):\n",
    "    counts = Counter(lst)\n",
    "    return[num for num,count in counts.items() if count>1]\n",
    "\n",
    "print(find_duplicates([1,2,2,3,3,4,4,4,5,6,7,8,9,9,9]))"
   ]
  },
  {
   "cell_type": "code",
   "execution_count": 13,
   "id": "4784ac4a-63b8-4d04-8b02-1801a0ea23ed",
   "metadata": {},
   "outputs": [
    {
     "name": "stdout",
     "output_type": "stream",
     "text": [
      "5\n"
     ]
    }
   ],
   "source": [
    "def longest_increasing_subsequence(arr):\n",
    "    n = len(arr)\n",
    "    lis = [1]*n\n",
    "    for i in range(1,n):\n",
    "        for j in range(i):\n",
    "            if arr[i] > arr[j]:\n",
    "                lis[i] = max(lis[i],lis[j]+1)\n",
    "    return max(lis)\n",
    "\n",
    "print(longest_increasing_subsequence([25,26,88,99,73,78,100,65]))"
   ]
  },
  {
   "cell_type": "code",
   "execution_count": 15,
   "id": "e4315619-0395-4258-bc73-05fea42c1cda",
   "metadata": {},
   "outputs": [
    {
     "name": "stdout",
     "output_type": "stream",
     "text": [
      "[86, 67, 65, 34, 23]\n"
     ]
    }
   ],
   "source": [
    "import heapq\n",
    "def k_largest_element(lst,k):\n",
    "    return heapq.nlargest(k,lst)\n",
    "\n",
    "print(k_largest_element([10,5,34,67,23,86,12,65],5))"
   ]
  },
  {
   "cell_type": "code",
   "execution_count": 17,
   "id": "64a821e6-c0d5-4189-9976-9170ed176e95",
   "metadata": {},
   "outputs": [
    {
     "name": "stdout",
     "output_type": "stream",
     "text": [
      "[7, 4, 1]\n",
      "[8, 5, 2]\n",
      "[9, 6, 3]\n"
     ]
    }
   ],
   "source": [
    "def rotate_matrix(matrix):\n",
    "    return[list(row) for row in zip(*matrix[::-1])]\n",
    "\n",
    "matrix = [[1,2,3],[4,5,6],[7,8,9]]\n",
    "rotated = rotate_matrix(matrix)\n",
    "for row in rotated:\n",
    "    print(row)"
   ]
  },
  {
   "cell_type": "code",
   "execution_count": 22,
   "id": "c3254264-19bf-4493-a691-0ca1094248ee",
   "metadata": {},
   "outputs": [
    {
     "name": "stdout",
     "output_type": "stream",
     "text": [
      "True\n"
     ]
    }
   ],
   "source": [
    "#Task 39: Sudoku Validator\n",
    "def is_valid_sudoku(board):\n",
    "    def is_valid_block(block):\n",
    "        block = [i for i in block if i != \".\"]\n",
    "        return len(block) == len(set(block))\n",
    "\n",
    "    for i in range(9):\n",
    "        if not is_valid_block([board[i][j] for j in range(9)]) or not is_valid_block([board[j][i] for j in range(9)]):\n",
    "            return False\n",
    "\n",
    "    for i in range(0, 9, 3):\n",
    "        for j in range(0, 9, 3):\n",
    "            if not is_valid_block([board[x][y] for x in range(i, i + 3)\n",
    "                                               for y in range(j, j + 3)]):\n",
    "                return False\n",
    "    return True\n",
    "\n",
    "# Example\n",
    "sudoku_board = [\n",
    "    [\"5\",\"3\",\".\",\".\",\"7\",\".\",\".\",\".\",\".\"],\n",
    "    [\"6\",\".\",\".\",\"1\",\"9\",\"5\",\".\",\".\",\".\"],\n",
    "    [\".\",\"9\",\"8\",\".\",\".\",\".\",\".\",\"6\",\".\"],\n",
    "    [\"8\",\".\",\".\",\".\",\"6\",\".\",\".\",\".\",\"3\"],\n",
    "    [\"4\",\".\",\".\",\"8\",\".\",\"3\",\".\",\".\",\"1\"],\n",
    "    [\"7\",\".\",\".\",\".\",\"2\",\".\",\".\",\".\",\"6\"],\n",
    "    [\".\",\"6\",\".\",\".\",\".\",\".\",\"2\",\"8\",\".\"],\n",
    "    [\".\",\".\",\".\",\"4\",\"1\",\"9\",\".\",\".\",\"5\"],\n",
    "    [\".\",\".\",\".\",\".\",\"8\",\".\",\".\",\"7\",\"9\"]\n",
    "]\n",
    "print(is_valid_sudoku(sudoku_board))"
   ]
  },
  {
   "cell_type": "code",
   "execution_count": 19,
   "id": "dd115d5d-fe35-441e-af48-73b0a3201ae3",
   "metadata": {},
   "outputs": [
    {
     "name": "stdout",
     "output_type": "stream",
     "text": [
      "Stock Prices: {'AAPL': 150, 'GOOG': 2800, 'TSLA': 700}\n",
      "Bought 10 shares of AAPL for $1500\n",
      "Stock Prices: {'AAPL': 151, 'GOOG': 2805, 'TSLA': 696}\n",
      "Sold 5 shares of AAPL for $755\n"
     ]
    }
   ],
   "source": [
    "# Virtual Stock Market Simulator\n",
    "import random\n",
    "\n",
    "class StockMarketSimulator:\n",
    "    def __init__(self):\n",
    "       self.stocks = {\"AAPL\": 150, \"GOOG\": 2800, \"TSLA\": 700}\n",
    "       self.portfolio = {}\n",
    "        \n",
    "    def update_prices(self):\n",
    "        for stock in self.stocks:\n",
    "            self.stocks[stock] += random.randint(-5, 5)\n",
    "\n",
    "    def buy_stock(self, stock, quantity):\n",
    "        if stock in self.stocks:\n",
    "            cost = self.stocks[stock] * quantity\n",
    "            self.portfolio[stock] = self.portfolio.get(stock, 0) + quantity\n",
    "            print(f\"Bought {quantity} shares of {stock} for ${cost}\")\n",
    "\n",
    "    def sell_stock(self, stock, quantity):\n",
    "        if stock in self.portfolio and self.portfolio[stock] >= quantity:\n",
    "            revenue = self.stocks[stock] * quantity\n",
    "            self.portfolio[stock] -= quantity\n",
    "            print(f\"Sold {quantity} shares of {stock} for ${revenue}\")\n",
    "\n",
    "    def display_market(self):\n",
    "        print(\"Stock Prices:\", self.stocks)\n",
    "\n",
    "# Example\n",
    "market  = StockMarketSimulator()\n",
    "market.display_market()\n",
    "market.buy_stock(\"AAPL\", 10)\n",
    "market.update_prices()\n",
    "market.display_market()\n",
    "market.sell_stock(\"AAPL\", 5)\n",
    "            "
   ]
  },
  {
   "cell_type": "code",
   "execution_count": null,
   "id": "2aa1bb56-7442-46c9-b782-709f01a85d29",
   "metadata": {},
   "outputs": [],
   "source": []
  }
 ],
 "metadata": {
  "kernelspec": {
   "display_name": "Python 3 (ipykernel)",
   "language": "python",
   "name": "python3"
  },
  "language_info": {
   "codemirror_mode": {
    "name": "ipython",
    "version": 3
   },
   "file_extension": ".py",
   "mimetype": "text/x-python",
   "name": "python",
   "nbconvert_exporter": "python",
   "pygments_lexer": "ipython3",
   "version": "3.12.7"
  }
 },
 "nbformat": 4,
 "nbformat_minor": 5
}
