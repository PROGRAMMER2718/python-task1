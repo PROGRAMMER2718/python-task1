{
 "cells": [
  {
   "cell_type": "code",
   "execution_count": 5,
   "id": "fc297978-687c-4677-9fe2-7f4f0dc8240c",
   "metadata": {},
   "outputs": [
    {
     "name": "stdout",
     "output_type": "stream",
     "text": [
      "Enter the two numbers:\n"
     ]
    },
    {
     "name": "stdin",
     "output_type": "stream",
     "text": [
      "a:  40\n",
      "b:  80\n"
     ]
    },
    {
     "name": "stdout",
     "output_type": "stream",
     "text": [
      "The sum of the two numbers is: 120\n"
     ]
    }
   ],
   "source": [
    "#Task 1:The sum of two numbers\n",
    "def sum_of_two_numbers(a, b):\n",
    "    return a + b\n",
    "\n",
    "# Taking input outside the function\n",
    "print(\"Enter the two numbers:\")\n",
    "a = int(input(\"a: \"))\n",
    "b = int(input(\"b: \"))\n",
    "\n",
    "# Calling the function\n",
    "result = sum_of_two_numbers(a, b)\n",
    "print(\"The sum of the two numbers is:\", result)\n"
   ]
  },
  {
   "cell_type": "code",
   "execution_count": 9,
   "id": "a30f6e31-bbaa-46a0-9bf4-1cddeafc5d0c",
   "metadata": {},
   "outputs": [
    {
     "name": "stdin",
     "output_type": "stream",
     "text": [
      "Enter the number:  45\n"
     ]
    },
    {
     "name": "stdout",
     "output_type": "stream",
     "text": [
      "The number 45 is Odd\n"
     ]
    }
   ],
   "source": [
    "#Task 2: Odd or Even\n",
    "def odd_or_even(number):\n",
    "    if number % 2 == 0:\n",
    "        return \"Even\"\n",
    "    else:\n",
    "        return \"Odd\"\n",
    "a = int(input(\"Enter the number: \"))\n",
    "result = odd_or_even(a)\n",
    "print(f\"The number {a} is {result}\")"
   ]
  },
  {
   "cell_type": "code",
   "execution_count": 12,
   "id": "07c458bb-66f1-4029-9f79-12d1112df721",
   "metadata": {},
   "outputs": [
    {
     "name": "stdin",
     "output_type": "stream",
     "text": [
      "Enter the number:  5\n"
     ]
    },
    {
     "name": "stdout",
     "output_type": "stream",
     "text": [
      "The factorial of 5 is 120\n"
     ]
    }
   ],
   "source": [
    "#Task3:Factorial Calculation\n",
    "def factorial(a):\n",
    "    result = 1\n",
    "    for i in range (1,n+1):\n",
    "        result *= i\n",
    "    return result \n",
    "\n",
    "#Example\n",
    "n = int(input(\"Enter the number: \"))\n",
    "result = factorial(n)\n",
    "print(f\"The factorial of {n} is {result}\")"
   ]
  },
  {
   "cell_type": "code",
   "execution_count": 13,
   "id": "72e8c784-7762-4482-8bbf-6087ca090434",
   "metadata": {},
   "outputs": [
    {
     "name": "stdout",
     "output_type": "stream",
     "text": [
      "The first 10 Fibonacci numbers are: [0, 1, 1, 2, 3, 5, 8, 13, 21, 34]\n"
     ]
    }
   ],
   "source": [
    "#Task4:Fibonacci Sequence\n",
    "def fibonacci_sequence(n):\n",
    "    sequence = [0,1]\n",
    "    for i in range (2,n):\n",
    "        sequence.append(sequence[-1] + sequence [-2])\n",
    "    return sequence[:n]\n",
    " #Example\n",
    "n=10 \n",
    "print(f\"The first {n} Fibonacci numbers are: {fibonacci_sequence(n)}\" )"
   ]
  },
  {
   "cell_type": "code",
   "execution_count": 16,
   "id": "9dcd9769-731a-4de0-9ebe-b06510e470b8",
   "metadata": {},
   "outputs": [
    {
     "name": "stdout",
     "output_type": "stream",
     "text": [
      "The reverse of Hey there! is !ereht yeH\n"
     ]
    }
   ],
   "source": [
    "#Task5:Reverse a string\n",
    "def reverse_string(a):\n",
    "    return a[:: -1]\n",
    "string = \"Hey there!\"\n",
    "print(f\"The reverse of {string} is {reverse_string(string)}\")\n"
   ]
  },
  {
   "cell_type": "code",
   "execution_count": 19,
   "id": "d5eec985-e10a-45ab-a36d-eb5cabfd516b",
   "metadata": {},
   "outputs": [
    {
     "name": "stdout",
     "output_type": "stream",
     "text": [
      "Is rotator a palindrome? True.\n"
     ]
    }
   ],
   "source": [
    "#Task6: Palindrome check\n",
    "def is_palindrome(n):\n",
    "    return n ==n[::-1]\n",
    "\n",
    "string = \"rotator\"\n",
    "print(f\"Is {string} a palindrome? {is_palindrome(string)}.\")"
   ]
  },
  {
   "cell_type": "code",
   "execution_count": 1,
   "id": "ea66bd60-7d66-4ed9-bdef-d6937c7b49f5",
   "metadata": {},
   "outputs": [
    {
     "name": "stdout",
     "output_type": "stream",
     "text": [
      "Is 1998 a leap year? False.\n"
     ]
    }
   ],
   "source": [
    "#Task7:Leap Year Check\n",
    "def is_leap_year(year):\n",
    "    return year % 4 ==0 and (year % 100 != 0 or year % 400 ==0)\n",
    "\n",
    "year = 1998\n",
    "print(f\"Is {year} a leap year? {is_leap_year(year)}.\")"
   ]
  },
  {
   "cell_type": "code",
   "execution_count": 2,
   "id": "b8138456-ad1f-4cf6-a475-963314b0102d",
   "metadata": {},
   "outputs": [
    {
     "name": "stdout",
     "output_type": "stream",
     "text": [
      "Is 982 an Armstrong number? False.\n"
     ]
    }
   ],
   "source": [
    "#Task 8: Armstrong Number\n",
    "def is_armstrong_number(n):\n",
    "    digits = str(n)\n",
    "    return n == sum(int(d)**len(digits) for d in digits)\n",
    "\n",
    "num = 982\n",
    "print(f\"Is {num} an Armstrong number? {is_armstrong_number(num)}.\")"
   ]
  },
  {
   "cell_type": "code",
   "execution_count": 6,
   "id": "b18bf53c-b352-4cc1-81d2-9b4c4cdbd1fb",
   "metadata": {},
   "outputs": [
    {
     "name": "stdout",
     "output_type": "stream",
     "text": [
      "Original: Hey there!\n",
      "Encrypted: Khb wkhuh!\n",
      "Decrypted: Hey there!\n"
     ]
    }
   ],
   "source": [
    "#Custom Encryption-Decryption system\n",
    "def encrypt(text,shift):\n",
    "    encrypted_text = \"\"\n",
    "    for char in text:\n",
    "        if char.isalpha():\n",
    "            shift_base = 65 if char.isupper() else 97\n",
    "            encrypted_text += chr((ord(char) - shift_base + shift) %26 + shift_base )\n",
    "\n",
    "        else:\n",
    "            encrypted_text += char \n",
    "    return encrypted_text\n",
    "\n",
    "def decrypt(encrypted_text,shift):\n",
    "    return encrypt(encrypted_text,-shift)\n",
    "\n",
    "message = \"Hey there!\"\n",
    "shift_key = 3 \n",
    "\n",
    "encrypted_message = encrypt(message,shift_key)\n",
    "decrypted_message = decrypt(encrypted_message,shift_key)\n",
    "print(f\"Original: {message}\")\n",
    "print(f\"Encrypted: {encrypted_message}\")\n",
    "print(f\"Decrypted: {decrypted_message}\")\n"
   ]
  },
  {
   "cell_type": "code",
   "execution_count": 7,
   "id": "d68cc0eb-b179-479f-b8b7-b2bead7b6759",
   "metadata": {},
   "outputs": [
    {
     "ename": "SyntaxError",
     "evalue": "invalid syntax (2202369829.py, line 1)",
     "output_type": "error",
     "traceback": [
      "\u001b[1;36m  Cell \u001b[1;32mIn[7], line 1\u001b[1;36m\u001b[0m\n\u001b[1;33m    '' Custom Encryption-Decryption System\u001b[0m\n\u001b[1;37m       ^\u001b[0m\n\u001b[1;31mSyntaxError\u001b[0m\u001b[1;31m:\u001b[0m invalid syntax\n"
     ]
    }
   ],
   "source": [
    "'' Custom Encryption-Decryption System\n",
    "\n",
    "An Overview of the Custom Encryption-Decryption SystemThe Custom Encryption-Decryption System is a program designed to encrypt and decrypt messages using a basic substitution cipher. The purpose of this project is to develop an understanding of encryption principles and algorithm design without relying on built-in cryptography libraries.\n",
    "\n",
    "Objectives:\n",
    "\n",
    "Implement a robust encryption and decryption algorithm.\n",
    "\n",
    "Handle edge cases such as special characters and spaces.\n",
    "\n",
    "Ensure security through manual implementation rather than using pre-built libraries.\n",
    "\n",
    "3. ApproachThe encryption method used in this project is based on the Caesar cipher, where each letter in the plaintext is shifted by a fixed number of positions in the alphabet. The decryption method simply reverses the shift to get back the original message.\n",
    "\n",
    "3.1 Encryption Process\n",
    "\n",
    "Convert every letter into the corresponding ASCII value.\n",
    "\n",
    "Apply the shift transformation, moving the character by n positions.\n",
    "\n",
    "Preserve non-alphabetic characters (such as spaces, punctuation) as they are.\n",
    "\n",
    "Return the encrypted text.\n",
    "\n",
    "3.2 Decryption Process\n",
    "\n",
    "Convert every letter of the encrypted text into the ASCII value.\n",
    "\n",
    "Apply the reverse shift transformation to the characters.\n",
    "\n",
    "Preserve non-alphabetic characters.\n",
    "\n",
    "Return the decrypted text.\n",
    "\n",
    "4. Key Challenges and Their Solutions\n",
    "\n",
    "Challenge and solutions\n",
    "\n",
    "Handling both uppercase and lowercase letters -Used ASCII values with conditions to check for uppercase or lowercase characters.\n",
    "\n",
    "Preserving spaces and special characters - Ensured non-alphabetic characters were never transformed.\n",
    "\n",
    "Using encryption libraries directly -Avoided built-in encryption libraries and created the algorithm in Python with simple string manipulation and loops.\n",
    "\n",
    "5. Learning Outcomes\n",
    "\n",
    "Learned quite a bit about manual encryption techniques.\n",
    "\n",
    "Great improvement in algorithm design and logical reasoning abilities.\n",
    "\n",
    "Learned to deal with edge cases effectively.\n",
    "\n",
    "Practiced documentation and report writing skills.\n",
    "\n",
    "6. ConclusionThis project was a good learning experience about basic principles of cryptography and included the manual work of implementing a simple encryption-decryption system. It provided knowledge that would serve as a springboard toward learning advanced encryption algorithms in the future.''\n",
    "\n"
   ]
  },
  {
   "cell_type": "code",
   "execution_count": null,
   "id": "d8593973-a4c1-43cd-8708-58bce53c2701",
   "metadata": {},
   "outputs": [],
   "source": []
  }
 ],
 "metadata": {
  "kernelspec": {
   "display_name": "Python 3 (ipykernel)",
   "language": "python",
   "name": "python3"
  },
  "language_info": {
   "codemirror_mode": {
    "name": "ipython",
    "version": 3
   },
   "file_extension": ".py",
   "mimetype": "text/x-python",
   "name": "python",
   "nbconvert_exporter": "python",
   "pygments_lexer": "ipython3",
   "version": "3.12.7"
  }
 },
 "nbformat": 4,
 "nbformat_minor": 5
}
