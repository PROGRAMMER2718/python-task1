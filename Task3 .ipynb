{
 "cells": [
  {
   "cell_type": "code",
   "execution_count": 1,
   "id": "7dabe42e-65a7-447c-a734-02576a240f33",
   "metadata": {},
   "outputs": [
    {
     "name": "stdin",
     "output_type": "stream",
     "text": [
      "Enter a number:  17\n"
     ]
    },
    {
     "name": "stdout",
     "output_type": "stream",
     "text": [
      "17 x 1 = 17\n",
      "17 x 2 = 34\n",
      "17 x 3 = 51\n",
      "17 x 4 = 68\n",
      "17 x 5 = 85\n",
      "17 x 6 = 102\n",
      "17 x 7 = 119\n",
      "17 x 8 = 136\n",
      "17 x 9 = 153\n",
      "17 x 10 = 170\n"
     ]
    }
   ],
   "source": [
    "#Task 17:Table of the number\n",
    "def mulplication_table(n):\n",
    "    for i in range(1,11):\n",
    "        print(f\"{n} x {i} = {n* i}\")\n",
    "\n",
    "n = int(input(\"Enter a number: \"))\n",
    "mulplication_table(n)"
   ]
  },
  {
   "cell_type": "code",
   "execution_count": 4,
   "id": "118b76bf-01d4-409c-899e-1aa057bcb366",
   "metadata": {},
   "outputs": [
    {
     "name": "stdout",
     "output_type": "stream",
     "text": [
      "Enter the first number:  12\n",
      "Enter the second number:  54\n"
     ]
    },
    {
     "name": "stdout",
     "output_type": "stream",
     "text": [
      "The swapped numbers : a = 54 , b = 12\n"
     ]
    }
   ],
   "source": [
    "#Task18: Swap Two Numbers Without third variable\n",
    "def swap_numbers(a,b):\n",
    "    a,b = b,a\n",
    "    print (f\"The swapped numbers : a = {a} , b = {b}\")\n",
    "a = int(input(\"Enter the first number: \"))\n",
    "b = int(input(\"Enter the second number: \"))\n",
    "swap_numbers(a,b)\n",
    "    "
   ]
  },
  {
   "cell_type": "code",
   "execution_count": 5,
   "id": "60fcfe5f-5726-4ac9-96c7-d7ed1850352b",
   "metadata": {},
   "outputs": [
    {
     "name": "stdout",
     "output_type": "stream",
     "text": [
      "Enter the main string:  Hey there!\n",
      "Enter the sub string:  Hey\n"
     ]
    },
    {
     "name": "stdout",
     "output_type": "stream",
     "text": [
      "True\n"
     ]
    }
   ],
   "source": [
    "#Task19: Check Substring\n",
    "def check_substring(main_str,sub_str):\n",
    "    return sub_str in main_str\n",
    "\n",
    "main_str = input(\"Enter the main string: \")\n",
    "sub_str = input(\"Enter the sub string: \")\n",
    "print(check_substring(main_str,sub_str))"
   ]
  },
  {
   "cell_type": "code",
   "execution_count": 8,
   "id": "cfad7763-5a49-4020-b72d-47866388e9df",
   "metadata": {},
   "outputs": [
    {
     "name": "stdout",
     "output_type": "stream",
     "text": [
      "Enter an integer:  789\n"
     ]
    },
    {
     "name": "stdout",
     "output_type": "stream",
     "text": [
      "Binary representation:1100010101 \n"
     ]
    }
   ],
   "source": [
    "#Task20:Decimal to Binary\n",
    "def decimal_to_binary(n):\n",
    "    binary = \" \"\n",
    "    while n>0:\n",
    "        binary = str(n%2) + binary\n",
    "        n = n//2\n",
    "    return binary if binary else \"0\"\n",
    "\n",
    "n = int(input(\"Enter an integer: \"))\n",
    "print(f\"Binary representation:{decimal_to_binary(n)}\")"
   ]
  },
  {
   "cell_type": "code",
   "execution_count": 14,
   "id": "1ecd56f2-6f72-4885-8f07-fad84e405d9d",
   "metadata": {},
   "outputs": [
    {
     "name": "stdout",
     "output_type": "stream",
     "text": [
      "[5, 11]\n",
      "[9, 7]\n"
     ]
    }
   ],
   "source": [
    "#Task21:Matrix Addition\n",
    "def matrix_addition(A,B):\n",
    "    rows = len(A)\n",
    "    cols = len(A[0])\n",
    "    result = [[A[i][j] + B[i][j] for j in range(cols)] for i in range(rows)]\n",
    "    return result\n",
    "\n",
    "#Example usage\n",
    "A = [[2,5],[1,0]]\n",
    "B = [[3,6],[8,7]]\n",
    "\n",
    "result = matrix_addition(A,B)\n",
    "for row in result:\n",
    "    print(row)\n"
   ]
  },
  {
   "cell_type": "code",
   "execution_count": 17,
   "id": "320e820c-d6c3-479f-8beb-310c478de367",
   "metadata": {},
   "outputs": [
    {
     "name": "stdout",
     "output_type": "stream",
     "text": [
      "[[54, 50], [48, 55]]\n"
     ]
    }
   ],
   "source": [
    "#Task22:Matrix Multiplication\n",
    "def multiply_matrices(A, B):\n",
    "    result = [[sum(A[i][k] * B[k][j] for k in range(len(B))) for j in range(len(B[0]))] for i in range(len(A))]\n",
    "    return result\n",
    "\n",
    "A = [[6, 4], [7, 3]]\n",
    "B = [[3, 7], [9, 2]]\n",
    "print(multiply_matrices(A, B))\n"
   ]
  },
  {
   "cell_type": "code",
   "execution_count": 21,
   "id": "7609fd40-dd75-4880-a103-b67e3314a510",
   "metadata": {},
   "outputs": [
    {
     "name": "stdout",
     "output_type": "stream",
     "text": [
      "Enter numbers seperated by space:  456 394 255 267 415 987 985 965 632 452\n"
     ]
    },
    {
     "name": "stdout",
     "output_type": "stream",
     "text": [
      "985\n"
     ]
    }
   ],
   "source": [
    "#Task23:Find Second Largest\n",
    "def second_largest(lst):\n",
    "    unique_sorted = sorted(set(lst), reverse = True)\n",
    "    return unique_sorted[1] if len(unique_sorted)>1 else None\n",
    "\n",
    "nums = list(map(int,input(\"Enter numbers seperated by space: \").split()))\n",
    "print (second_largest(nums))"
   ]
  },
  {
   "cell_type": "code",
   "execution_count": 22,
   "id": "452d54ef-78c2-411a-9bc6-09fbf2491c6c",
   "metadata": {},
   "outputs": [
    {
     "name": "stdout",
     "output_type": "stream",
     "text": [
      "Enter first string:  listen\n",
      "Enter second string:  silent\n"
     ]
    },
    {
     "name": "stdout",
     "output_type": "stream",
     "text": [
      "True\n"
     ]
    }
   ],
   "source": [
    "#Task24:CheckAnagram\n",
    "def is_anagram(str1,str2):\n",
    "    return sorted(str1) == sorted(str2)\n",
    "str1 = input(\"Enter first string: \")\n",
    "str2 = input(\"Enter second string: \")\n",
    "\n",
    "print (is_anagram(str1,str2))\n"
   ]
  },
  {
   "cell_type": "code",
   "execution_count": 2,
   "id": "b592cd24-dbb1-46f1-84e8-98d341c17c4c",
   "metadata": {},
   "outputs": [
    {
     "name": "stdout",
     "output_type": "stream",
     "text": [
      "\n",
      "\n",
      "   |   |   \n",
      "---+---+---\n",
      "   |   |   \n",
      "---+---+---\n",
      "   |   |   \n",
      "\n",
      "\n"
     ]
    },
    {
     "name": "stdin",
     "output_type": "stream",
     "text": [
      "Your move (0-8):  2\n"
     ]
    },
    {
     "name": "stdout",
     "output_type": "stream",
     "text": [
      "AI's move:\n",
      "\n",
      "\n",
      "   |   | X \n",
      "---+---+---\n",
      "   | O |   \n",
      "---+---+---\n",
      "   |   |   \n",
      "\n",
      "\n"
     ]
    },
    {
     "name": "stdin",
     "output_type": "stream",
     "text": [
      "Your move (0-8):  3\n"
     ]
    },
    {
     "name": "stdout",
     "output_type": "stream",
     "text": [
      "AI's move:\n",
      "\n",
      "\n",
      " O |   | X \n",
      "---+---+---\n",
      " X | O |   \n",
      "---+---+---\n",
      "   |   |   \n",
      "\n",
      "\n"
     ]
    },
    {
     "name": "stdin",
     "output_type": "stream",
     "text": [
      "Your move (0-8):  8\n"
     ]
    },
    {
     "name": "stdout",
     "output_type": "stream",
     "text": [
      "AI's move:\n",
      "\n",
      "\n",
      " O |   | X \n",
      "---+---+---\n",
      " X | O | O \n",
      "---+---+---\n",
      "   |   | X \n",
      "\n",
      "\n"
     ]
    },
    {
     "name": "stdin",
     "output_type": "stream",
     "text": [
      "Your move (0-8):  7\n"
     ]
    },
    {
     "name": "stdout",
     "output_type": "stream",
     "text": [
      "AI's move:\n",
      "\n",
      "\n",
      " O |   | X \n",
      "---+---+---\n",
      " X | O | O \n",
      "---+---+---\n",
      " O | X | X \n",
      "\n",
      "\n"
     ]
    },
    {
     "name": "stdin",
     "output_type": "stream",
     "text": [
      "Your move (0-8):  1\n"
     ]
    },
    {
     "name": "stdout",
     "output_type": "stream",
     "text": [
      "\n",
      "\n",
      " O | X | X \n",
      "---+---+---\n",
      " X | O | O \n",
      "---+---+---\n",
      " O | X | X \n",
      "\n",
      "\n",
      "It's a draw!\n"
     ]
    }
   ],
   "source": [
    " # AI-Based Tic-Tac-Toe\n",
    "import math\n",
    "\n",
    "# Initialize board\n",
    "def initialize_board():\n",
    "    return [' '] * 9\n",
    "\n",
    "# Display the board\n",
    "def display_board(board):\n",
    "    print(\"\\n\")\n",
    "    print(f\" {board[0]} | {board[1]} | {board[2]} \")\n",
    "    print(\"---+---+---\")\n",
    "    print(f\" {board[3]} | {board[4]} | {board[5]} \")\n",
    "    print(\"---+---+---\")\n",
    "    print(f\" {board[6]} | {board[7]} | {board[8]} \")\n",
    "    print(\"\\n\")\n",
    "\n",
    "# Check for a winner\n",
    "def check_winner(board):\n",
    "    win_conditions = [(0, 1, 2), (3, 4, 5), (6, 7, 8),\n",
    "                      (0, 3, 6), (1, 4, 7), (2, 5, 8),\n",
    "                      (0, 4, 8), (2, 4, 6)]\n",
    "    for x, y, z in win_conditions:\n",
    "        if board[x] == board[y] == board[z] and board[x] != ' ':\n",
    "            return board[x]\n",
    "    return None\n",
    "\n",
    "# Check for draw\n",
    "def is_draw(board):\n",
    "    return ' ' not in board and check_winner(board) is None\n",
    "\n",
    "# Minimax Algorithm with Alpha-Beta Pruning\n",
    "def minimax(board, depth, is_maximizing, alpha, beta):\n",
    "    winner = check_winner(board)\n",
    "    if winner == 'O':  # AI wins\n",
    "        return 10 - depth\n",
    "    elif winner == 'X':  # Player wins\n",
    "        return depth - 10\n",
    "    elif is_draw(board):\n",
    "        return 0  \n",
    "\n",
    "    if is_maximizing:\n",
    "        max_eval = -math.inf\n",
    "        for i in range(9):\n",
    "            if board[i] == ' ':\n",
    "                board[i] = 'O'\n",
    "                eval = minimax(board, depth + 1, False, alpha, beta)\n",
    "                board[i] = ' '\n",
    "                max_eval = max(max_eval, eval)\n",
    "                alpha = max(alpha, eval)\n",
    "                if beta <= alpha:\n",
    "                    break\n",
    "        return max_eval\n",
    "    else:\n",
    "        min_eval = math.inf\n",
    "        for i in range(9):\n",
    "            if board[i] == ' ':\n",
    "                board[i] = 'X'\n",
    "                eval = minimax(board, depth + 1, True, alpha, beta)\n",
    "                board[i] = ' '\n",
    "                min_eval = min(min_eval, eval)\n",
    "                beta = min(beta, eval)\n",
    "                if beta <= alpha:\n",
    "                    break\n",
    "        return min_eval\n",
    "\n",
    "# AI's move\n",
    "def ai_move(board):\n",
    "    best_score = -math.inf\n",
    "    move = -1\n",
    "    for i in range(9):\n",
    "        if board[i] == ' ':\n",
    "            board[i] = 'O'\n",
    "            score = minimax(board, 0, False, -math.inf, math.inf)\n",
    "            board[i] = ' '\n",
    "            if score > best_score:\n",
    "                best_score = score\n",
    "                move = i\n",
    "    return move\n",
    "\n",
    "# Main Game Loop\n",
    "def play_game():\n",
    "    board = initialize_board()\n",
    "    while True:\n",
    "        display_board(board)\n",
    "        \n",
    "        if check_winner(board) or is_draw(board):\n",
    "            break\n",
    "        \n",
    "        try:\n",
    "            user_move = int(input(\"Your move (0-8): \"))\n",
    "            if board[user_move] == ' ':\n",
    "                board[user_move] = 'X'\n",
    "            else:\n",
    "                print(\"Invalid move! Try again.\")\n",
    "                continue\n",
    "        except (ValueError, IndexError):\n",
    "            print(\"Invalid input! Enter a number between 0-8.\")\n",
    "            continue\n",
    "        \n",
    "        if check_winner(board) or is_draw(board):\n",
    "            break\n",
    "        \n",
    "        print(\"AI's move:\")\n",
    "        ai_pos = ai_move(board)\n",
    "        board[ai_pos] = 'O'\n",
    "\n",
    "    display_board(board)\n",
    "    winner = check_winner(board)\n",
    "    if winner:\n",
    "        print(f\"The Winner is {winner}!\")\n",
    "    else:\n",
    "        print(\"It's a draw!\")\n",
    "\n",
    "# Run the game\n",
    "play_game()"
   ]
  },
  {
   "cell_type": "code",
   "execution_count": null,
   "id": "a5a31c4a-6eee-423c-a039-c761bcaf3e32",
   "metadata": {},
   "outputs": [],
   "source": []
  }
 ],
 "metadata": {
  "kernelspec": {
   "display_name": "Python 3 (ipykernel)",
   "language": "python",
   "name": "python3"
  },
  "language_info": {
   "codemirror_mode": {
    "name": "ipython",
    "version": 3
   },
   "file_extension": ".py",
   "mimetype": "text/x-python",
   "name": "python",
   "nbconvert_exporter": "python",
   "pygments_lexer": "ipython3",
   "version": "3.12.7"
  }
 },
 "nbformat": 4,
 "nbformat_minor": 5
}
