{
 "cells": [
  {
   "cell_type": "code",
   "execution_count": 8,
   "id": "f3de9622-4833-475f-85f5-a5242d0b0082",
   "metadata": {},
   "outputs": [
    {
     "name": "stdout",
     "output_type": "stream",
     "text": [
      "Missing number:3\n"
     ]
    }
   ],
   "source": [
    "#Task 25 :Find missing number\n",
    "def find_missing_num(arr,n):\n",
    "    expected_sum = n * (n+1)//2\n",
    "    actual_sum = sum(arr)\n",
    "    return expected_sum - actual_sum\n",
    "# Example usage\n",
    "arr = [1,2,4,5,6]\n",
    "n = 6 #Length of array +1\n",
    "print(f\"Missing number:{find_missing_num(arr,n)}\")"
   ]
  },
  {
   "cell_type": "code",
   "execution_count": 9,
   "id": "4436daa4-330f-438c-ba69-e9b1b818b47c",
   "metadata": {},
   "outputs": [
    {
     "name": "stdout",
     "output_type": "stream",
     "text": [
      "True\n",
      "False\n"
     ]
    }
   ],
   "source": [
    "#Task 26: Check Balanced Parentheses\n",
    "def is_balanced(s):\n",
    "    stack = []\n",
    "    mapping = {')': '(', '}': '{', ']': '['}\n",
    "\n",
    "    for char in s:\n",
    "        if char in mapping:\n",
    "            top = stack.pop() if stack else '#'\n",
    "            if mapping[char] != top:\n",
    "                return False\n",
    "        else:\n",
    "            stack.append(char)\n",
    "\n",
    "    return not stack\n",
    "\n",
    "# Example\n",
    "print(is_balanced(\"{[()]}\"))  \n",
    "print(is_balanced(\"{[(])}\")) "
   ]
  },
  {
   "cell_type": "code",
   "execution_count": 10,
   "id": "04707b71-ac93-4e66-b3ba-6f4db0d7e004",
   "metadata": {},
   "outputs": [
    {
     "name": "stdout",
     "output_type": "stream",
     "text": [
      "Longest word: quick\n"
     ]
    }
   ],
   "source": [
    "#Task 27: Longest Word in a Sentence\n",
    "def longest_word(sentence):\n",
    "    words = sentence.split()\n",
    "    return max(words, key=len)\n",
    "\n",
    "# Example\n",
    "sentence = \"The quick brown fox jumps over the lazy dog\"\n",
    "print(f\"Longest word: {longest_word(sentence)}\")"
   ]
  },
  {
   "cell_type": "code",
   "execution_count": 11,
   "id": "c1773e9c-bc23-4d91-bae2-3e13162776e7",
   "metadata": {},
   "outputs": [
    {
     "name": "stdout",
     "output_type": "stream",
     "text": [
      "Word count: 9\n"
     ]
    }
   ],
   "source": [
    "#Task 28: Count words in a Sentence\n",
    "def count_words(sentence):\n",
    "    return len(sentence.split())\n",
    "\n",
    "#Example \n",
    "sentence = \"The quick brown fox jumps over the lazy dog\"\n",
    "print(\"Word count:\", count_words(sentence))"
   ]
  },
  {
   "cell_type": "code",
   "execution_count": 12,
   "id": "e6d3ecfb-6268-41d9-af46-63ffdd91462a",
   "metadata": {},
   "outputs": [
    {
     "name": "stdout",
     "output_type": "stream",
     "text": [
      "True\n",
      "True\n",
      "False\n"
     ]
    }
   ],
   "source": [
    "#Task 29: Check Pythagorean Triplet\n",
    "def is_pythagorean_triplet(a, b, c):\n",
    "    a, b, c = sorted([a, b, c])\n",
    "    return a**2 + b**2 == c**2\n",
    "\n",
    "# Example\n",
    "print(is_pythagorean_triplet(3, 4, 5))\n",
    "print(is_pythagorean_triplet(5, 12, 13))\n",
    "print(is_pythagorean_triplet(1, 2, 3))"
   ]
  },
  {
   "cell_type": "code",
   "execution_count": 13,
   "id": "a877d2bd-5dfa-4247-be7f-ce1853a9f1ad",
   "metadata": {},
   "outputs": [
    {
     "name": "stdout",
     "output_type": "stream",
     "text": [
      "Sorted array: [5, 8, 11, 12, 22, 25, 34, 44, 64, 90]\n"
     ]
    }
   ],
   "source": [
    "#Task 30: Bubble Sort\n",
    "def bubble_sort(arr):\n",
    "    n = len(arr)\n",
    "    for i in range(n):\n",
    "        for j in range(0, n-i-1):\n",
    "            if arr[j] > arr[j+1]:\n",
    "                arr[j], arr[j+1] = arr[j+1], arr[j]\n",
    "    return arr\n",
    "\n",
    "# Example\n",
    "arr = [5, 8, 44, 64, 34, 25, 12, 22, 11, 90]\n",
    "print(\"Sorted array:\", bubble_sort(arr))"
   ]
  },
  {
   "cell_type": "code",
   "execution_count": 14,
   "id": "9a4c43a5-a7bb-40de-9914-a511ce74adad",
   "metadata": {},
   "outputs": [
    {
     "name": "stdout",
     "output_type": "stream",
     "text": [
      "Index: 4\n",
      "Index: -1\n"
     ]
    }
   ],
   "source": [
    "#Task 31: Binary Search\n",
    "def binary_search(arr, target):\n",
    "    low, high = 0, len(arr) - 1\n",
    "    while low <= high:\n",
    "        mid = (low + high) // 2\n",
    "        if arr[mid] == target:\n",
    "            return mid\n",
    "        elif arr[mid] < target:\n",
    "            low = mid + 1\n",
    "        else:\n",
    "            high = mid - 1\n",
    "    return - 1\n",
    "\n",
    "# Example\n",
    "arr = [1, 2, 3, 4, 5, 6, 7, 8, 9]\n",
    "print(\"Index:\", binary_search(arr, 5))\n",
    "print(\"Index:\", binary_search(arr, 10))"
   ]
  },
  {
   "cell_type": "code",
   "execution_count": 15,
   "id": "3baaa4ca-0c3c-477d-bb14-2d0833bf4ee0",
   "metadata": {},
   "outputs": [
    {
     "name": "stdout",
     "output_type": "stream",
     "text": [
      "Subarray indices: (2, 4)\n"
     ]
    }
   ],
   "source": [
    "#Task 32: Find Subarray with Given Sum\n",
    "def find_subarray(arr, S):\n",
    "    left, curr_sum = 0, 0\n",
    "    for right in range(len(arr)):\n",
    "        curr_sum += arr[right]\n",
    "        while curr_sum > S and left <= right:\n",
    "             curr_sum -= arr[left]\n",
    "             left += 1\n",
    "        if curr_sum == S:\n",
    "            return (left, right)\n",
    "    return -1\n",
    "\n",
    "# Example\n",
    "arr = [1, 4, 20, 3, 10, 5]\n",
    "S = 33\n",
    "print(\"Subarray indices:\", find_subarray(arr, S))"
   ]
  },
  {
   "cell_type": "code",
   "execution_count": 16,
   "id": "66d12e65-30af-429c-8762-3701bb5d2997",
   "metadata": {},
   "outputs": [
    {
     "name": "stdout",
     "output_type": "stream",
     "text": [
      "Top IP addresses:\n",
      "[('192.168.1.1', 3), ('192.168.1.2', 1), ('192.168.1.3', 1)]\n"
     ]
    }
   ],
   "source": [
    "# Log Analysis System\n",
    "def analyze_logs(file_path):\n",
    "    ip_count = {}\n",
    "    with open(file_path, 'r') as file:\n",
    "        for line in file:\n",
    "            parts = line.split()\n",
    "            if len(parts) > 0:\n",
    "                ip = parts[0]\n",
    "                ip_count[ip] = ip_count.get(ip, 0) + 1\n",
    "    sorted_ips = sorted(ip_count.items(), key=lambda x: x[1], reverse=True)\n",
    "    return sorted_ips[:5] # Return top 5 most frequent IPs\n",
    "\n",
    "# Example\n",
    "# Assume 'server_logs.txt' is in the current directory\n",
    "# Create a small log file for demonstration\n",
    "with open(\"server_logs.txt\", \"w\") as file:\n",
    "    file.write(\"192.168.1.1 - - [12/Dec/2021] GET /index.html 200\\n\")\n",
    "    file.write(\"192.168.1.2 - - [12/Dec/2021] GET /index.html 200\\n\")\n",
    "    file.write(\"192.168.1.1 - - [12/Dec/2021] GET /index.html 404\\n\")\n",
    "    file.write(\"192.168.1.3 - - [12/Dec/2021] GET /index.html 200\\n\")\n",
    "    file.write(\"192.168.1.1 - - [12/Dec/2021] GET /index.html 200\\n\")\n",
    "\n",
    "# Analyze the Logs\n",
    "print(\"Top IP addresses:\")\n",
    "print(analyze_logs(\"server_logs.txt\"))\n",
    "               \n",
    "    \n",
    "    "
   ]
  },
  {
   "cell_type": "code",
   "execution_count": null,
   "id": "4bec8bec-ea62-4509-941a-6d59b8fdb97e",
   "metadata": {},
   "outputs": [],
   "source": []
  }
 ],
 "metadata": {
  "kernelspec": {
   "display_name": "Python 3 (ipykernel)",
   "language": "python",
   "name": "python3"
  },
  "language_info": {
   "codemirror_mode": {
    "name": "ipython",
    "version": 3
   },
   "file_extension": ".py",
   "mimetype": "text/x-python",
   "name": "python",
   "nbconvert_exporter": "python",
   "pygments_lexer": "ipython3",
   "version": "3.12.7"
  }
 },
 "nbformat": 4,
 "nbformat_minor": 5
}
